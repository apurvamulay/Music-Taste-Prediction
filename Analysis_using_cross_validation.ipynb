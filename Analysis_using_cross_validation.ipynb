{
  "nbformat": 4,
  "nbformat_minor": 0,
  "metadata": {
    "colab": {
      "name": "Analysis_using_cross_validation.ipynb",
      "provenance": [],
      "collapsed_sections": []
    },
    "kernelspec": {
      "name": "python3",
      "display_name": "Python 3"
    }
  },
  "cells": [
    {
      "cell_type": "markdown",
      "metadata": {
        "id": "xua2vKg3iSlX",
        "colab_type": "text"
      },
      "source": [
        "Music Taste Analysis using cross validation and model tuning on biased dataset"
      ]
    },
    {
      "cell_type": "code",
      "metadata": {
        "id": "Q5RU6cMd6Rml",
        "colab_type": "code",
        "outputId": "bc8b7583-fa53-43c8-a475-37bc34a031c7",
        "colab": {
          "base_uri": "https://localhost:8080/",
          "height": 275
        }
      },
      "source": [
        "pip install spotipy"
      ],
      "execution_count": 4,
      "outputs": [
        {
          "output_type": "stream",
          "text": [
            "Collecting spotipy\n",
            "  Downloading https://files.pythonhosted.org/packages/59/46/3c957255c96910a8a0e2d9c25db1de51a8676ebba01d7966bedc6e748822/spotipy-2.4.4.tar.gz\n",
            "Requirement already satisfied: requests>=1.0 in /usr/local/lib/python3.6/dist-packages (from spotipy) (2.21.0)\n",
            "Requirement already satisfied: idna<2.9,>=2.5 in /usr/local/lib/python3.6/dist-packages (from requests>=1.0->spotipy) (2.8)\n",
            "Requirement already satisfied: certifi>=2017.4.17 in /usr/local/lib/python3.6/dist-packages (from requests>=1.0->spotipy) (2019.11.28)\n",
            "Requirement already satisfied: chardet<3.1.0,>=3.0.2 in /usr/local/lib/python3.6/dist-packages (from requests>=1.0->spotipy) (3.0.4)\n",
            "Requirement already satisfied: urllib3<1.25,>=1.21.1 in /usr/local/lib/python3.6/dist-packages (from requests>=1.0->spotipy) (1.24.3)\n",
            "Building wheels for collected packages: spotipy\n",
            "  Building wheel for spotipy (setup.py) ... \u001b[?25l\u001b[?25hdone\n",
            "  Created wheel for spotipy: filename=spotipy-2.4.4-cp36-none-any.whl size=12336 sha256=5dc3e78133b35d49e1f6fc47d20c8b655bf69285fd3f9449f55a0a3450bc481e\n",
            "  Stored in directory: /root/.cache/pip/wheels/76/28/19/a86ca9bb0e32dbd4a4f580870250f5aeef852870578e0427e6\n",
            "Successfully built spotipy\n",
            "Installing collected packages: spotipy\n",
            "Successfully installed spotipy-2.4.4\n"
          ],
          "name": "stdout"
        }
      ]
    },
    {
      "cell_type": "code",
      "metadata": {
        "id": "TdLMQ-si6cMx",
        "colab_type": "code",
        "colab": {}
      },
      "source": [
        "import time\n",
        "import numpy as np\n",
        "import pandas as pd\n",
        "import matplotlib.pyplot as plt\n",
        "import seaborn as sns\n",
        "from sklearn import tree\n",
        "from sklearn import ensemble\n",
        "\n",
        "sns.set()\n",
        "from sklearn import preprocessing\n",
        "from sklearn.model_selection import KFold\n",
        "from sklearn.linear_model import LogisticRegression\n",
        "from sklearn import metrics\n",
        "\n",
        "import spotipy\n",
        "from spotipy.oauth2 import SpotifyClientCredentials  # To access authorised Spotify data\n"
      ],
      "execution_count": 0,
      "outputs": []
    },
    {
      "cell_type": "code",
      "metadata": {
        "id": "D7mSCJrf6htN",
        "colab_type": "code",
        "colab": {}
      },
      "source": [
        "client_id = \"7df335489096457ca820d54e203ecec8\"\n",
        "client_secret = \"b7919f370c884a37a192912b019c08bd\"\n",
        "\n",
        "client_credentials_manager = SpotifyClientCredentials(client_id=client_id, client_secret=client_secret)\n",
        "sp = spotipy.Spotify(client_credentials_manager=client_credentials_manager)  # spotify object to access API\n"
      ],
      "execution_count": 0,
      "outputs": []
    },
    {
      "cell_type": "code",
      "metadata": {
        "id": "SQjDJ5gk97Ig",
        "colab_type": "code",
        "colab": {}
      },
      "source": [
        "def prepare_data(artist):\n",
        "    name = artist  # chosen artist\n",
        "    result = sp.search(name)  # search query\n",
        "    print(result['tracks']['items'][0]['artists'])\n",
        "\n",
        "    # Extract Artist's uri\n",
        "    artist_uri = result['tracks']['items'][0]['artists'][0]['uri']\n",
        "    # Pull all of the artist's albums\n",
        "    sp_albums = sp.artist_albums(artist_uri, album_type='album')\n",
        "    # Store artist's albums' names' and uris in separate lists\n",
        "    album_names = []\n",
        "    album_uris = []\n",
        "    for i in range(len(sp_albums['items'])):\n",
        "        album_names.append(sp_albums['items'][i]['name'])\n",
        "        album_uris.append(sp_albums['items'][i]['uri'])\n",
        "\n",
        "    print(album_names)\n",
        "    print(album_uris)\n",
        "\n",
        "    # Keep names and uris in same order to keep track of duplicate albums\n",
        "\n",
        "    spotify_albums = {}\n",
        "\n",
        "    def albumSongs(uri, album_count):\n",
        "        album = uri  # assign album uri to a_name\n",
        "        spotify_albums[album] = {}  # Creates dictionary for that specific album\n",
        "        # Create keys-values of empty lists inside nested dictionary for album\n",
        "        spotify_albums[album]['album'] = []  # create empty list\n",
        "        spotify_albums[album]['track_number'] = []\n",
        "        spotify_albums[album]['id'] = []\n",
        "        spotify_albums[album]['name'] = []\n",
        "        spotify_albums[album]['uri'] = []\n",
        "\n",
        "        tracks = sp.album_tracks(album)  # pull data on album tracks\n",
        "        for n in range(len(tracks['items'])):  # for each song track\n",
        "            spotify_albums[album]['album'].append(album_names[album_count])  # append album name tracked via album_count\n",
        "            spotify_albums[album]['track_number'].append(tracks['items'][n]['track_number'])\n",
        "            spotify_albums[album]['id'].append(tracks['items'][n]['id'])\n",
        "            spotify_albums[album]['name'].append(tracks['items'][n]['name'])\n",
        "            spotify_albums[album]['uri'].append(tracks['items'][n]['uri'])\n",
        "\n",
        "    album_count = 0\n",
        "    for i in album_uris:  # each album\n",
        "        albumSongs(i, album_count)\n",
        "        print(\"Album \" + str(album_names[album_count]) + \" songs has been added to spotify_albums dictionary\")\n",
        "        album_count += 1  # Updates album count once all tracks have been added\n",
        "\n",
        "    def audio_features(album):\n",
        "        # Add new key-values to store audio features\n",
        "        spotify_albums[album]['acousticness'] = []\n",
        "        spotify_albums[album]['danceability'] = []\n",
        "        spotify_albums[album]['energy'] = []\n",
        "        spotify_albums[album]['instrumentalness'] = []\n",
        "        spotify_albums[album]['liveness'] = []\n",
        "        spotify_albums[album]['loudness'] = []\n",
        "        spotify_albums[album]['speechiness'] = []\n",
        "        spotify_albums[album]['tempo'] = []\n",
        "        spotify_albums[album]['valence'] = []\n",
        "        spotify_albums[album]['popularity'] = []\n",
        "        # create a track counter\n",
        "        track_count = 0\n",
        "        for track in spotify_albums[album]['uri']:\n",
        "            # pull audio features per track\n",
        "            features = sp.audio_features(track)\n",
        "\n",
        "            # Append to relevant key-value\n",
        "            spotify_albums[album]['acousticness'].append(features[0]['acousticness'])\n",
        "            spotify_albums[album]['danceability'].append(features[0]['danceability'])\n",
        "            spotify_albums[album]['energy'].append(features[0]['energy'])\n",
        "            spotify_albums[album]['instrumentalness'].append(features[0]['instrumentalness'])\n",
        "            spotify_albums[album]['liveness'].append(features[0]['liveness'])\n",
        "            spotify_albums[album]['loudness'].append(features[0]['loudness'])\n",
        "            spotify_albums[album]['speechiness'].append(features[0]['speechiness'])\n",
        "            spotify_albums[album]['tempo'].append(features[0]['tempo'])\n",
        "            spotify_albums[album]['valence'].append(features[0]['valence'])\n",
        "            # popularity is stored\n",
        "            pop = sp.track(track)\n",
        "            spotify_albums[album]['popularity'].append(pop['popularity'])\n",
        "            track_count += 1\n",
        "\n",
        "    \n",
        "    sleep_min = 2\n",
        "    sleep_max = 5\n",
        "    start_time = time.time()\n",
        "    request_count = 0\n",
        "    for i in spotify_albums:\n",
        "        audio_features(i)\n",
        "        request_count += 1\n",
        "        if request_count % 5 == 0:\n",
        "            print(str(request_count) + \" playlists completed\")\n",
        "            time.sleep(np.random.uniform(sleep_min, sleep_max))\n",
        "            print('Loop #: {}'.format(request_count))\n",
        "            print('Elapsed Time: {} seconds'.format(time.time() - start_time))\n",
        "    \n",
        "\n",
        "    dic_df = {}\n",
        "    dic_df['album'] = []\n",
        "    dic_df['track_number'] = []\n",
        "    dic_df['id'] = []\n",
        "    dic_df['name'] = []\n",
        "    dic_df['uri'] = []\n",
        "    dic_df['acousticness'] = []\n",
        "    dic_df['danceability'] = []\n",
        "    dic_df['energy'] = []\n",
        "    dic_df['instrumentalness'] = []\n",
        "    dic_df['liveness'] = []\n",
        "    dic_df['loudness'] = []\n",
        "    dic_df['speechiness'] = []\n",
        "    dic_df['tempo'] = []\n",
        "    dic_df['valence'] = []\n",
        "    dic_df['popularity'] = []\n",
        "    for album in spotify_albums:\n",
        "        for feature in spotify_albums[album]:\n",
        "            dic_df[feature].extend(spotify_albums[album][feature])\n",
        "\n",
        "    len(dic_df['album'])\n",
        "\n",
        "    df = pd.DataFrame.from_dict(dic_df)\n",
        "    return df\n",
        "\n",
        "    # final_df = df.sort_values('popularity', ascending=False).drop_duplicates('name').sort_index()\n",
        "    # final_df['user'] = [1] * len(final_df.index)\n",
        "\n",
        "    # final_df.to_csv(\"dataset/spotify_data_\"+ artist + \".csv\")"
      ],
      "execution_count": 0,
      "outputs": []
    },
    {
      "cell_type": "code",
      "metadata": {
        "id": "2csJcX3u_qd6",
        "colab_type": "code",
        "colab": {}
      },
      "source": [
        "def add_label_column(df, value, artist):\n",
        "  final_df = df.sort_values('popularity', ascending=False).drop_duplicates('name').sort_index()\n",
        "  final_df['user'] = [value] * len(final_df.index)\n",
        "\n",
        "  final_df.to_csv(\"dataset/spotify_data_\"+ artist + \".csv\")\n",
        "  return final_df"
      ],
      "execution_count": 0,
      "outputs": []
    },
    {
      "cell_type": "code",
      "metadata": {
        "id": "o9Kl0mwk-rDz",
        "colab_type": "code",
        "colab": {}
      },
      "source": [
        "def combine_multiple_files():\n",
        "    # combine all music files from different users\n",
        "    user2_combined_songs_csv = pd.concat(\n",
        "        ([pd.read_csv(f) for f in ['dataset/spotify_data_Anirudh.csv', 'dataset/spotify_data_Ravi Basrur.csv']]),\n",
        "        sort=False)\n",
        "    user2_combined_songs_csv.to_csv('dataset/user_2_songs.csv', index=False)\n",
        "\n",
        "    user2_csv = pd.read_csv('dataset/user_2_songs.csv')\n",
        "    \n",
        "    #uncomment this if created file for shakira\n",
        "    #    combined_csv = pd.concat(([pd.read_csv(f) for f in ['dataset/spotify_data_Shakira.csv','dataset/user_2_songs.csv', 'dataset/spotify_data_Owl City.csv', 'dataset/spotify_data_Akon.csv']]), sort=False)\n",
        "\n",
        "    combined_csv = pd.concat(([pd.read_csv(f) for f in ['dataset/spotify_data_Akon.csv','dataset/user_2_songs.csv', 'dataset/spotify_data_Owl City.csv']]),\n",
        "                             sort=False)\n",
        "    combined_csv.to_csv('dataset/combined_csv.csv', index=False)"
      ],
      "execution_count": 0,
      "outputs": []
    },
    {
      "cell_type": "code",
      "metadata": {
        "id": "cMFG0T_5BEme",
        "colab_type": "code",
        "outputId": "b2c8d4d2-51a5-47bc-c243-86ae385b64a3",
        "colab": {
          "base_uri": "https://localhost:8080/",
          "height": 1000
        }
      },
      "source": [
        "#Artists liked by User1\n",
        "df1 = prepare_data('Ravi Basrur')\n",
        "final_df = add_label_column(df1, 0, 'Ravi Basrur')\n",
        "df2 = prepare_data('Anirudh')\n",
        "final_df = add_label_column(df2, 0, 'Anirudh')\n",
        "\n",
        "\n",
        "#Artists liked by User0\n",
        "df3 = prepare_data('Akon')\n",
        "final_df = add_label_column(df3, 1, 'Akon')\n",
        "df4 = prepare_data('Owl City')\n",
        "final_df = add_label_column(df4, 1, 'Owl City')\n",
        "\n",
        "#Uncomment this to get 50-50 split for complete dataset\n",
        "#df5 = prepare_data('Shakira')\n",
        "#final_df = add_label_column(df5, 1, 'Shakira')\n",
        "\n"
      ],
      "execution_count": 0,
      "outputs": [
        {
          "output_type": "stream",
          "text": [
            "[{'external_urls': {'spotify': 'https://open.spotify.com/artist/4iA6bUhiZyvRKJf4FNVX39'}, 'href': 'https://api.spotify.com/v1/artists/4iA6bUhiZyvRKJf4FNVX39', 'id': '4iA6bUhiZyvRKJf4FNVX39', 'name': 'Vijay Prakash', 'type': 'artist', 'uri': 'spotify:artist:4iA6bUhiZyvRKJf4FNVX39'}, {'external_urls': {'spotify': 'https://open.spotify.com/artist/7B8fJFL2TEAi4GlHHCHba2'}, 'href': 'https://api.spotify.com/v1/artists/7B8fJFL2TEAi4GlHHCHba2', 'id': '7B8fJFL2TEAi4GlHHCHba2', 'name': 'Shri Krishna', 'type': 'artist', 'uri': 'spotify:artist:7B8fJFL2TEAi4GlHHCHba2'}, {'external_urls': {'spotify': 'https://open.spotify.com/artist/4JLzPvsQcq1YxZkEvgax48'}, 'href': 'https://api.spotify.com/v1/artists/4JLzPvsQcq1YxZkEvgax48', 'id': '4JLzPvsQcq1YxZkEvgax48', 'name': 'Lokeshwar', 'type': 'artist', 'uri': 'spotify:artist:4JLzPvsQcq1YxZkEvgax48'}, {'external_urls': {'spotify': 'https://open.spotify.com/artist/1ZKWEgONUTL99f0niqmUA4'}, 'href': 'https://api.spotify.com/v1/artists/1ZKWEgONUTL99f0niqmUA4', 'id': '1ZKWEgONUTL99f0niqmUA4', 'name': 'Arun Kaundinya', 'type': 'artist', 'uri': 'spotify:artist:1ZKWEgONUTL99f0niqmUA4'}, {'external_urls': {'spotify': 'https://open.spotify.com/artist/4SY2K0zOOqWwoq4UcAnLmW'}, 'href': 'https://api.spotify.com/v1/artists/4SY2K0zOOqWwoq4UcAnLmW', 'id': '4SY2K0zOOqWwoq4UcAnLmW', 'name': 'Adithya Lyengar', 'type': 'artist', 'uri': 'spotify:artist:4SY2K0zOOqWwoq4UcAnLmW'}, {'external_urls': {'spotify': 'https://open.spotify.com/artist/1JMlWJqJZhPGF5PIHP5khH'}, 'href': 'https://api.spotify.com/v1/artists/1JMlWJqJZhPGF5PIHP5khH', 'id': '1JMlWJqJZhPGF5PIHP5khH', 'name': 'Ganta Rithesh', 'type': 'artist', 'uri': 'spotify:artist:1JMlWJqJZhPGF5PIHP5khH'}, {'external_urls': {'spotify': 'https://open.spotify.com/artist/25CC77LOgi5bBoOlCaNIp9'}, 'href': 'https://api.spotify.com/v1/artists/25CC77LOgi5bBoOlCaNIp9', 'id': '25CC77LOgi5bBoOlCaNIp9', 'name': 'Santhosh Venki', 'type': 'artist', 'uri': 'spotify:artist:25CC77LOgi5bBoOlCaNIp9'}, {'external_urls': {'spotify': 'https://open.spotify.com/artist/2U4KiBePibvnd8BIXtBvk7'}, 'href': 'https://api.spotify.com/v1/artists/2U4KiBePibvnd8BIXtBvk7', 'id': '2U4KiBePibvnd8BIXtBvk7', 'name': 'Mohan Krishna', 'type': 'artist', 'uri': 'spotify:artist:2U4KiBePibvnd8BIXtBvk7'}, {'external_urls': {'spotify': 'https://open.spotify.com/artist/7x01tAFlpr9Y6TmTyJg18W'}, 'href': 'https://api.spotify.com/v1/artists/7x01tAFlpr9Y6TmTyJg18W', 'id': '7x01tAFlpr9Y6TmTyJg18W', 'name': 'H. Shreenivas Moorthi', 'type': 'artist', 'uri': 'spotify:artist:7x01tAFlpr9Y6TmTyJg18W'}, {'external_urls': {'spotify': 'https://open.spotify.com/artist/4JcNkX2slvFotxwbcl1eDZ'}, 'href': 'https://api.spotify.com/v1/artists/4JcNkX2slvFotxwbcl1eDZ', 'id': '4JcNkX2slvFotxwbcl1eDZ', 'name': 'Vijay Aurs', 'type': 'artist', 'uri': 'spotify:artist:4JcNkX2slvFotxwbcl1eDZ'}, {'external_urls': {'spotify': 'https://open.spotify.com/artist/2q1LRGJHpFxovU8Tz6OgRn'}, 'href': 'https://api.spotify.com/v1/artists/2q1LRGJHpFxovU8Tz6OgRn', 'id': '2q1LRGJHpFxovU8Tz6OgRn', 'name': 'Ravi Basrur', 'type': 'artist', 'uri': 'spotify:artist:2q1LRGJHpFxovU8Tz6OgRn'}]\n",
            "['Vijay Prakash Kannada Hit Songs', 'Arjun Janya & Vijay Prakash Musical Hits', 'Hasiru Ribbon (Studio)', 'Bam Bhole (Studio)', 'Bam Bhole', 'Swaravijayi (Original Motion Pictures Soundtrack)', 'Best of Vijay Prakash', 'Karunada Chakravarthy Dr. Shivanna Hits Vol-2', \"Vijay Prakash Hits Solo's\", 'Diwali - Songs of Devotion', 'Forever Vijay Prakash - Kannada Hits - 2016', '30 Essential Divine Songs', 'Classic Telugu Kritis', 'Kondaiya Aati', 'This Is Carnatic Fusion', 'Bhakti by Vijay Prakash', 'Shivlilamrut', 'Soul Music', 'Best Melodies of Vijay Prakash', 'Vighnaharta']\n",
            "['spotify:album:3PxiOcY6NAOQK0HZU4BWUM', 'spotify:album:1dPvWPSJzMOw4yN3ACWfxK', 'spotify:album:0Ne6eZeNw4FZJ4wR1TwE5r', 'spotify:album:4Fen9hP3uxALwVgYedybAH', 'spotify:album:34DiDENsatSdm9n0Q8EGMr', 'spotify:album:40on9zelijOIav99KpN1Rl', 'spotify:album:1fph2dSyEYdEg9S0FOmgTv', 'spotify:album:374scpPq5uE8DWUDTHi8gp', 'spotify:album:5GGqEReWtSFnTvLgZP5xem', 'spotify:album:1aPdq4sAWH8wIaA9Y00IqB', 'spotify:album:4RYGagntopfr9NNgjVQta5', 'spotify:album:5WPnV6MeOZnKx3JodeEtMZ', 'spotify:album:1T5iGkuqy9b81qHdmKwDeU', 'spotify:album:1ytXtCBosb08qRvntCWSwF', 'spotify:album:48zn0p7tuPdG7wRIYBBU5m', 'spotify:album:5q5zpVXgCJoQ92AEIntHGJ', 'spotify:album:1SHW8yWz4q5iQsKcu3EEWM', 'spotify:album:7eaGSVtrI2B4S4VcdE8iVZ', 'spotify:album:7kjlAbj3hE9t3scm8mO01h', 'spotify:album:5qik0PGCscURjXGKNbBeT5']\n",
            "Album Vijay Prakash Kannada Hit Songs songs has been added to spotify_albums dictionary\n",
            "Album Arjun Janya & Vijay Prakash Musical Hits songs has been added to spotify_albums dictionary\n",
            "Album Hasiru Ribbon (Studio) songs has been added to spotify_albums dictionary\n",
            "Album Bam Bhole (Studio) songs has been added to spotify_albums dictionary\n",
            "Album Bam Bhole songs has been added to spotify_albums dictionary\n",
            "Album Swaravijayi (Original Motion Pictures Soundtrack) songs has been added to spotify_albums dictionary\n",
            "Album Best of Vijay Prakash songs has been added to spotify_albums dictionary\n",
            "Album Karunada Chakravarthy Dr. Shivanna Hits Vol-2 songs has been added to spotify_albums dictionary\n",
            "Album Vijay Prakash Hits Solo's songs has been added to spotify_albums dictionary\n",
            "Album Diwali - Songs of Devotion songs has been added to spotify_albums dictionary\n",
            "Album Forever Vijay Prakash - Kannada Hits - 2016 songs has been added to spotify_albums dictionary\n",
            "Album 30 Essential Divine Songs songs has been added to spotify_albums dictionary\n",
            "Album Classic Telugu Kritis songs has been added to spotify_albums dictionary\n",
            "Album Kondaiya Aati songs has been added to spotify_albums dictionary\n",
            "Album This Is Carnatic Fusion songs has been added to spotify_albums dictionary\n",
            "Album Bhakti by Vijay Prakash songs has been added to spotify_albums dictionary\n",
            "Album Shivlilamrut songs has been added to spotify_albums dictionary\n",
            "Album Soul Music songs has been added to spotify_albums dictionary\n",
            "Album Best Melodies of Vijay Prakash songs has been added to spotify_albums dictionary\n",
            "Album Vighnaharta songs has been added to spotify_albums dictionary\n",
            "retrying ...1secs\n",
            "5 playlists completed\n",
            "Loop #: 5\n",
            "Elapsed Time: 9.143140077590942 seconds\n",
            "retrying ...1secs\n",
            "retrying ...1secs\n",
            "10 playlists completed\n",
            "Loop #: 10\n",
            "Elapsed Time: 22.397642374038696 seconds\n",
            "retrying ...4secs\n",
            "retrying ...1secs\n",
            "15 playlists completed\n",
            "Loop #: 15\n",
            "Elapsed Time: 39.40137052536011 seconds\n",
            "20 playlists completed\n",
            "Loop #: 20\n",
            "Elapsed Time: 48.356988191604614 seconds\n",
            "[{'external_urls': {'spotify': 'https://open.spotify.com/artist/4zCH9qm4R2DADamUHMCa6O'}, 'href': 'https://api.spotify.com/v1/artists/4zCH9qm4R2DADamUHMCa6O', 'id': '4zCH9qm4R2DADamUHMCa6O', 'name': 'Anirudh Ravichander', 'type': 'artist', 'uri': 'spotify:artist:4zCH9qm4R2DADamUHMCa6O'}, {'external_urls': {'spotify': 'https://open.spotify.com/artist/29cBzYwqCZF4fjCisS8UvU'}, 'href': 'https://api.spotify.com/v1/artists/29cBzYwqCZF4fjCisS8UvU', 'id': '29cBzYwqCZF4fjCisS8UvU', 'name': 'Inno Genga', 'type': 'artist', 'uri': 'spotify:artist:29cBzYwqCZF4fjCisS8UvU'}]\n",
            "['Anirudhs Darbar', 'Jersey (Original Background Score)', 'Golden Hits of S Janaki', 'Petta (Original Background Score)', 'Petta (Hindi) [Original Motion Picture Soundtrack]', 'Petta (Telugu) [Original Motion Picture Soundtrack]', 'Petta (Original Motion Picture Soundtrack)', 'Bromance: Anirudh Ravichander & Sivakarthikeyan', 'Mass Level : Anirudh Ravichander', 'Vivekam (Original Motion Picture Soundtrack)', 'Vivegam (Original Motion Picture Soundtrack)', 'Chill Level : Anirudh Ravichander', 'Young Mavericks (Anirudh & Santhosh Narayanan)', 'Rum (Original Motion Picture Soundtrack)', 'Remo Special (Original Background Score + Additional Song)', 'Remo (Original Motion Picture Soundtrack)', 'Wunderboy Anirudh', 'Kaththi (Original Motion Picture Soundtrack)', 'Kaththi (Original Motion Picture Soundtrack)', 'Kaththi (Original Motion Picture Soundtrack)']\n",
            "['spotify:album:5pXscGZp8q2t3gEnkL4uat', 'spotify:album:4DmsJV2ANlAxF5NNIkxMyU', 'spotify:album:2NR3JcAybz75lz2nzYD3cv', 'spotify:album:1pQJguKLryCpmfP40tcEM0', 'spotify:album:6CPyF4FBUi0a9bJ2VwPKk6', 'spotify:album:4gtt8h7YGortJoVjb42k2H', 'spotify:album:3NAMtgP845mM6cJjYDYy1g', 'spotify:album:3sIQWSDp9P7gfVtifRdwml', 'spotify:album:36D33FIqo6sa8HVfG4X0W4', 'spotify:album:0Am0zjniB5sapTdgBeYl9m', 'spotify:album:6zXvWxQ8vSbI44dQdPp4P0', 'spotify:album:2KDMRM2k1g8cchMuJE5J1U', 'spotify:album:0J7LNTkImjkEg3zG2sxMzq', 'spotify:album:7wOBAKgO7PkU1tsOMPI8LN', 'spotify:album:79HMqied0xnXecvwwgT1D0', 'spotify:album:58colQLIZDAInrHq3eT2PF', 'spotify:album:607wdRrazikLQyGPbQWkbu', 'spotify:album:4LwHofWTTkXIlRTSZ8qnKJ', 'spotify:album:73reIsXqZ6MXQ0YrO8B983', 'spotify:album:0CHQy8WKl6HXPdoJM84pwb']\n",
            "Album Anirudhs Darbar songs has been added to spotify_albums dictionary\n",
            "Album Jersey (Original Background Score) songs has been added to spotify_albums dictionary\n",
            "Album Golden Hits of S Janaki songs has been added to spotify_albums dictionary\n",
            "Album Petta (Original Background Score) songs has been added to spotify_albums dictionary\n",
            "Album Petta (Hindi) [Original Motion Picture Soundtrack] songs has been added to spotify_albums dictionary\n",
            "Album Petta (Telugu) [Original Motion Picture Soundtrack] songs has been added to spotify_albums dictionary\n",
            "Album Petta (Original Motion Picture Soundtrack) songs has been added to spotify_albums dictionary\n",
            "Album Bromance: Anirudh Ravichander & Sivakarthikeyan songs has been added to spotify_albums dictionary\n",
            "Album Mass Level : Anirudh Ravichander songs has been added to spotify_albums dictionary\n",
            "Album Vivekam (Original Motion Picture Soundtrack) songs has been added to spotify_albums dictionary\n",
            "Album Vivegam (Original Motion Picture Soundtrack) songs has been added to spotify_albums dictionary\n",
            "Album Chill Level : Anirudh Ravichander songs has been added to spotify_albums dictionary\n",
            "Album Young Mavericks (Anirudh & Santhosh Narayanan) songs has been added to spotify_albums dictionary\n",
            "Album Rum (Original Motion Picture Soundtrack) songs has been added to spotify_albums dictionary\n",
            "Album Remo Special (Original Background Score + Additional Song) songs has been added to spotify_albums dictionary\n",
            "Album Remo (Original Motion Picture Soundtrack) songs has been added to spotify_albums dictionary\n",
            "Album Wunderboy Anirudh songs has been added to spotify_albums dictionary\n",
            "Album Kaththi (Original Motion Picture Soundtrack) songs has been added to spotify_albums dictionary\n",
            "Album Kaththi (Original Motion Picture Soundtrack) songs has been added to spotify_albums dictionary\n",
            "Album Kaththi (Original Motion Picture Soundtrack) songs has been added to spotify_albums dictionary\n",
            "retrying ...1secs\n",
            "5 playlists completed\n",
            "Loop #: 5\n",
            "Elapsed Time: 12.72662353515625 seconds\n",
            "10 playlists completed\n",
            "Loop #: 10\n",
            "Elapsed Time: 21.960941553115845 seconds\n",
            "15 playlists completed\n",
            "Loop #: 15\n",
            "Elapsed Time: 29.818846225738525 seconds\n",
            "retrying ...2secs\n",
            "retrying ...1secs\n",
            "20 playlists completed\n",
            "Loop #: 20\n",
            "Elapsed Time: 41.91805458068848 seconds\n",
            "[{'external_urls': {'spotify': 'https://open.spotify.com/artist/0z4gvV4rjIZ9wHck67ucSV'}, 'href': 'https://api.spotify.com/v1/artists/0z4gvV4rjIZ9wHck67ucSV', 'id': '0z4gvV4rjIZ9wHck67ucSV', 'name': 'Akon', 'type': 'artist', 'uri': 'spotify:artist:0z4gvV4rjIZ9wHck67ucSV'}, {'external_urls': {'spotify': 'https://open.spotify.com/artist/7dGJo4pcD2V6oG8kP0tJRR'}, 'href': 'https://api.spotify.com/v1/artists/7dGJo4pcD2V6oG8kP0tJRR', 'id': '7dGJo4pcD2V6oG8kP0tJRR', 'name': 'Eminem', 'type': 'artist', 'uri': 'spotify:artist:7dGJo4pcD2V6oG8kP0tJRR'}]\n",
            "['Akonda', 'El Negreeto', 'KonKrete Jungle', 'Konkrete Jungle', 'Koncrete Vol. 1', 'Konvict Allstars', 'Freedom', 'Freedom', 'Freedom', 'Freedom', \"Freedom (Int'l Version 2)\", 'Konvicted', 'Konvicted', 'Konvicted', 'Konvicted', 'Konvicted', 'Konvicted', 'Konvicted', 'Trouble', 'Trouble']\n",
            "['spotify:album:1aaXxMl2pdwF8PjHh25yrV', 'spotify:album:5ab18n4CGysgcJDv3BJa1Z', 'spotify:album:7BuPO7yqJYGScpH2Qq6ZSu', 'spotify:album:2OP86R0cJJhDjW3fP9Ee2d', 'spotify:album:3ZpfQDwafNdaEUnbWVHIlM', 'spotify:album:5OxggY6YGvJiYWskRN5T7W', 'spotify:album:3BHAzidZ03EjVE7ncqyn0M', 'spotify:album:6oUdKOcIapetNwHPXsmMEn', 'spotify:album:7EZP6OSbWvMZTrEmlBt1HX', 'spotify:album:4KtRNC8MM6fKRw18iIUV6T', 'spotify:album:3VT8UskcBvp3C9xyHs6xjI', 'spotify:album:3QDP2PfboWtiNLcLpjWQpP', 'spotify:album:6uvmhw2fKvUn1qKKoe0egk', 'spotify:album:4lGqAi01t4w9hk0S2qoluZ', 'spotify:album:2i6wEsRtBblSDhcAySouwW', 'spotify:album:6kzoWb4UzvKYgbDfAwgaFq', 'spotify:album:26qSq9LJ6ckdyP4D7ZleCM', 'spotify:album:1CNdZ7YC8tK6w2n4ISqKyo', 'spotify:album:6X7HEjHrNHimc0buMQpNya', 'spotify:album:4RjjlOaPA7DewUH9icOIiv']\n",
            "Album Akonda songs has been added to spotify_albums dictionary\n",
            "Album El Negreeto songs has been added to spotify_albums dictionary\n",
            "Album KonKrete Jungle songs has been added to spotify_albums dictionary\n",
            "Album Konkrete Jungle songs has been added to spotify_albums dictionary\n",
            "Album Koncrete Vol. 1 songs has been added to spotify_albums dictionary\n",
            "Album Konvict Allstars songs has been added to spotify_albums dictionary\n",
            "Album Freedom songs has been added to spotify_albums dictionary\n",
            "Album Freedom songs has been added to spotify_albums dictionary\n",
            "Album Freedom songs has been added to spotify_albums dictionary\n",
            "Album Freedom songs has been added to spotify_albums dictionary\n",
            "Album Freedom (Int'l Version 2) songs has been added to spotify_albums dictionary\n",
            "Album Konvicted songs has been added to spotify_albums dictionary\n",
            "Album Konvicted songs has been added to spotify_albums dictionary\n",
            "Album Konvicted songs has been added to spotify_albums dictionary\n",
            "Album Konvicted songs has been added to spotify_albums dictionary\n",
            "Album Konvicted songs has been added to spotify_albums dictionary\n",
            "Album Konvicted songs has been added to spotify_albums dictionary\n",
            "Album Konvicted songs has been added to spotify_albums dictionary\n",
            "Album Trouble songs has been added to spotify_albums dictionary\n",
            "Album Trouble songs has been added to spotify_albums dictionary\n",
            "retrying ...1secs\n",
            "5 playlists completed\n",
            "Loop #: 5\n",
            "Elapsed Time: 10.526783227920532 seconds\n",
            "retrying ...4secs\n",
            "retrying ...1secs\n",
            "10 playlists completed\n",
            "Loop #: 10\n",
            "Elapsed Time: 24.72984290122986 seconds\n",
            "15 playlists completed\n",
            "Loop #: 15\n",
            "Elapsed Time: 35.32081151008606 seconds\n",
            "20 playlists completed\n",
            "Loop #: 20\n",
            "Elapsed Time: 45.03508520126343 seconds\n",
            "[{'external_urls': {'spotify': 'https://open.spotify.com/artist/07QEuhtrNmmZ0zEcqE9SF6'}, 'href': 'https://api.spotify.com/v1/artists/07QEuhtrNmmZ0zEcqE9SF6', 'id': '07QEuhtrNmmZ0zEcqE9SF6', 'name': 'Owl City', 'type': 'artist', 'uri': 'spotify:artist:07QEuhtrNmmZ0zEcqE9SF6'}]\n",
            "['Cinematic', 'Mobile Orchestra', 'Mobile Orchestra', 'Mobile Orchestra (Track By Track Commentary)', 'The Midsummer Station', 'All Things Bright And Beautiful', 'All Things Bright And Beautiful', 'All Things Bright And Beautiful', \"Maybe I'm Dreaming\", 'Ocean Eyes', 'Ocean Eyes (Deluxe Version)', \"Maybe I'm Dreaming\", 'Of June', \"Maybe I'm Dreaming\", \"Maybe I'm Dreaming\", 'Of June', 'Of June']\n",
            "['spotify:album:6W9RvVsQOeZnIIsNGd7di6', 'spotify:album:0SmW4didlwjs2YWFeqBIGX', 'spotify:album:6P9CHi6Dx26YWHeE3aTZiz', 'spotify:album:1Vu7tQMQZv0ExNhAASAATg', 'spotify:album:7gTFf2EWBONpjKVjpWbs5p', 'spotify:album:5eSkEsfC7Np8wUeU7WlEVH', 'spotify:album:4DiBfnAx5c8fkACkmlqiIB', 'spotify:album:6ZuYqYythSDhXIGTlU8uRU', 'spotify:album:1npVWSlryHbAZcJ3grlHsB', 'spotify:album:3vf65wfk1EEjVhy6BjENsS', 'spotify:album:1KQIB9AYz2TWTxYoDW2A35', 'spotify:album:33SjlUKM6SlTEZafFBqHqI', 'spotify:album:0oeMvagY1Tgvdh8v10pZIK', 'spotify:album:1IbZ11bEwSr4hfU7gMQZEj', 'spotify:album:0mZ8PENtmtSVsnQLC0evik', 'spotify:album:1L4fdrZrm2OdvyMCfwE6Vk', 'spotify:album:0svaAFdddKTuDFzBHgkieG']\n",
            "Album Cinematic songs has been added to spotify_albums dictionary\n",
            "Album Mobile Orchestra songs has been added to spotify_albums dictionary\n",
            "Album Mobile Orchestra songs has been added to spotify_albums dictionary\n",
            "Album Mobile Orchestra (Track By Track Commentary) songs has been added to spotify_albums dictionary\n",
            "Album The Midsummer Station songs has been added to spotify_albums dictionary\n",
            "Album All Things Bright And Beautiful songs has been added to spotify_albums dictionary\n",
            "Album All Things Bright And Beautiful songs has been added to spotify_albums dictionary\n",
            "Album All Things Bright And Beautiful songs has been added to spotify_albums dictionary\n",
            "Album Maybe I'm Dreaming songs has been added to spotify_albums dictionary\n",
            "Album Ocean Eyes songs has been added to spotify_albums dictionary\n",
            "Album Ocean Eyes (Deluxe Version) songs has been added to spotify_albums dictionary\n",
            "Album Maybe I'm Dreaming songs has been added to spotify_albums dictionary\n",
            "Album Of June songs has been added to spotify_albums dictionary\n",
            "Album Maybe I'm Dreaming songs has been added to spotify_albums dictionary\n",
            "Album Maybe I'm Dreaming songs has been added to spotify_albums dictionary\n",
            "Album Of June songs has been added to spotify_albums dictionary\n",
            "Album Of June songs has been added to spotify_albums dictionary\n",
            "retrying ...1secs\n",
            "retrying ...1secs\n",
            "5 playlists completed\n",
            "Loop #: 5\n",
            "Elapsed Time: 10.576239824295044 seconds\n",
            "retrying ...1secs\n",
            "retrying ...1secs\n",
            "10 playlists completed\n",
            "Loop #: 10\n",
            "Elapsed Time: 21.46564245223999 seconds\n",
            "retrying ...2secs\n",
            "retrying ...1secs\n",
            "15 playlists completed\n",
            "Loop #: 15\n",
            "Elapsed Time: 34.07611036300659 seconds\n"
          ],
          "name": "stdout"
        }
      ]
    },
    {
      "cell_type": "code",
      "metadata": {
        "id": "Uld3Dq_SIwFH",
        "colab_type": "code",
        "colab": {}
      },
      "source": [
        "#combine all files into one csv file\n",
        "\n",
        "combine_multiple_files()"
      ],
      "execution_count": 0,
      "outputs": []
    },
    {
      "cell_type": "code",
      "metadata": {
        "id": "xxG7BLXtEFAM",
        "colab_type": "code",
        "colab": {
          "base_uri": "https://localhost:8080/",
          "height": 34
        },
        "outputId": "a2acdf3d-2713-43f8-b73f-cd2ce7269adf"
      },
      "source": [
        "spotify_albums = pd.read_csv('dataset/combined_csv.csv', delimiter=',', )\n",
        "print(\"Size of dataset = \", spotify_albums.shape)"
      ],
      "execution_count": 7,
      "outputs": [
        {
          "output_type": "stream",
          "text": [
            "Size of dataset =  (654, 17)\n"
          ],
          "name": "stdout"
        }
      ]
    },
    {
      "cell_type": "code",
      "metadata": {
        "id": "P0CU3SMFEKZn",
        "colab_type": "code",
        "outputId": "83f8601a-e8d6-4e7d-f82c-e296999efd01",
        "colab": {
          "base_uri": "https://localhost:8080/",
          "height": 1000
        }
      },
      "source": [
        "def show_box_plot_for_columns():\n",
        "    spotify_albums.boxplot('track_number')\n",
        "    plt.show()\n",
        "\n",
        "    spotify_albums.boxplot('acousticness')\n",
        "    plt.show()\n",
        "\n",
        "    spotify_albums.boxplot('danceability')\n",
        "    plt.show()\n",
        "\n",
        "    spotify_albums.boxplot('energy')\n",
        "    plt.show()\n",
        "\n",
        "    spotify_albums.boxplot('instrumentalness')\n",
        "    plt.show()\n",
        "\n",
        "    spotify_albums.boxplot('liveness')\n",
        "    plt.show()\n",
        "\n",
        "    spotify_albums.boxplot('loudness')\n",
        "    plt.show()\n",
        "\n",
        "    spotify_albums.boxplot('speechiness')\n",
        "    plt.show()\n",
        "\n",
        "    spotify_albums.boxplot('tempo')\n",
        "    plt.show()\n",
        "\n",
        "    spotify_albums.boxplot('valence')\n",
        "    plt.show()\n",
        "\n",
        "    spotify_albums.boxplot('popularity')\n",
        "    plt.show()\n",
        "\n",
        "\n",
        "show_box_plot_for_columns()\n",
        "\n"
      ],
      "execution_count": 0,
      "outputs": [
        {
          "output_type": "display_data",
          "data": {
            "image/png": "[encoded data removed]",
            "text/plain": [
              "<Figure size 432x288 with 1 Axes>"
            ]
          },
          "metadata": {
            "tags": []
          }
        },
        {
          "output_type": "display_data",
          "data": {
            "image/png": "[encoded data removed]",
            "text/plain": [
              "<Figure size 432x288 with 1 Axes>"
            ]
          },
          "metadata": {
            "tags": []
          }
        },
        {
          "output_type": "display_data",
          "data": {
            "image/png": "[encoded data removed]",
            "text/plain": [
              "<Figure size 432x288 with 1 Axes>"
            ]
          },
          "metadata": {
            "tags": []
          }
        },
        {
          "output_type": "display_data",
          "data": {
            "image/png": "[encoded data removed]",
            "text/plain": [
              "<Figure size 432x288 with 1 Axes>"
            ]
          },
          "metadata": {
            "tags": []
          }
        },
        {
          "output_type": "display_data",
          "data": {
            "image/png": "[encoded data removed]",
            "text/plain": [
              "<Figure size 432x288 with 1 Axes>"
            ]
          },
          "metadata": {
            "tags": []
          }
        },
        {
          "output_type": "display_data",
          "data": {
            "image/png": "[encoded data removed]",
            "text/plain": [
              "<Figure size 432x288 with 1 Axes>"
            ]
          },
          "metadata": {
            "tags": []
          }
        },
        {
          "output_type": "display_data",
          "data": {
            "image/png": "[encoded data removed]",
            "text/plain": [
              "<Figure size 432x288 with 1 Axes>"
            ]
          },
          "metadata": {
            "tags": []
          }
        },
        {
          "output_type": "display_data",
          "data": {
            "image/png": "[encoded data removed]",
            "text/plain": [
              "<Figure size 432x288 with 1 Axes>"
            ]
          },
          "metadata": {
            "tags": []
          }
        },
        {
          "output_type": "display_data",
          "data": {
            "image/png": "[encoded data removed]",
            "text/plain": [
              "<Figure size 432x288 with 1 Axes>"
            ]
          },
          "metadata": {
            "tags": []
          }
        },
        {
          "output_type": "display_data",
          "data": {
            "image/png": "[encoded data removed]",
            "text/plain": [
              "<Figure size 432x288 with 1 Axes>"
            ]
          },
          "metadata": {
            "tags": []
          }
        },
        {
          "output_type": "display_data",
          "data": {
            "image/png": "[encoded data removed]",
            "text/plain": [
              "<Figure size 432x288 with 1 Axes>"
            ]
          },
          "metadata": {
            "tags": []
          }
        }
      ]
    },
    {
      "cell_type": "code",
      "metadata": {
        "id": "W78pRcN0EidT",
        "colab_type": "code",
        "outputId": "3c6931b5-297f-4091-8f8c-2498b2296226",
        "colab": {
          "base_uri": "https://localhost:8080/",
          "height": 405
        }
      },
      "source": [
        "def show_corr_matrix():\n",
        "    corr = spotify_albums.corr()\n",
        "    print(\"corr['energy']['acousticness']\", corr['energy']['acousticness'])\n",
        "    print(\"corr['loudness']['acousticness']\", corr['loudness']['acousticness'])\n",
        "    print(\"corr['energy']['loudness']\", corr['loudness']['energy'])\n",
        "    ax = sns.heatmap(corr, vmin=-1, vmax=1, center=0, cmap=sns.diverging_palette(20, 220, n=200))\n",
        "    plt.show()\n",
        "\n",
        "\n",
        "show_corr_matrix()\n"
      ],
      "execution_count": 0,
      "outputs": [
        {
          "output_type": "stream",
          "text": [
            "corr['energy']['acousticness'] -0.49836628213815626\n",
            "corr['loudness']['acousticness'] -0.404015545506711\n",
            "corr['energy']['loudness'] 0.7319243944462913\n"
          ],
          "name": "stdout"
        },
        {
          "output_type": "display_data",
          "data": {
            "image/png": "[encoded data removed]",
            "text/plain": [
              "<Figure size 432x288 with 2 Axes>"
            ]
          },
          "metadata": {
            "tags": []
          }
        }
      ]
    },
    {
      "cell_type": "code",
      "metadata": {
        "id": "1357dE8FEmXO",
        "colab_type": "code",
        "outputId": "79558395-48d6-469b-c6f0-382be8c19674",
        "colab": {
          "base_uri": "https://localhost:8080/",
          "height": 1000
        }
      },
      "source": [
        "########################### Model building #################################\n",
        "#K-fold cross validation \n",
        "k_fold = KFold(n_splits=3, random_state=42, shuffle=True)\n",
        "\n",
        "spotify_albums.drop([\"Unnamed: 0\", \"album\", \"id\", \"name\", \"uri\", \"track_number\"], axis=1, inplace=True)\n",
        "\n",
        "features_cols = [col for col in spotify_albums.columns if col not in ['user']]\n",
        "features = spotify_albums[features_cols]\n",
        "\n",
        "print(\"Columns\", features_cols)\n",
        "\n",
        "features = pd.DataFrame(preprocessing.normalize(features, axis=0, return_norm=False), columns=features.columns, index=features.index)\n",
        "\n",
        "label = spotify_albums['user']\n",
        "print(\"features\", features)\n",
        "print(\"labels\", label)\n",
        "\n",
        "x_train = []\n",
        "x_test = []\n",
        "y_train=[]\n",
        "y_test = []\n",
        "for train_index, test_index in k_fold.split(features):\n",
        "    x_train, x_test = features.iloc[train_index], features.iloc[test_index]\n",
        "    y_train, y_test = label.iloc[train_index], label.iloc[test_index]\n",
        "\n",
        "\n",
        "################## Logistic Regression ##########################\n",
        "model = LogisticRegression(random_state=0, solver='lbfgs', max_iter=1000, class_weight = 'balanced')\n",
        "model.fit(x_train, y_train)\n",
        "print(model)\n",
        "\n",
        "predict = model.predict(x_test)\n",
        "print(\"x_test\", x_test)\n",
        "print(predict)\n",
        "\n",
        "conf_matrix = metrics.confusion_matrix(y_test, predict)\n",
        "print(conf_matrix)\n",
        "\n",
        "\n",
        "print(\"Accuracy score using Logistic Regression :\", metrics.accuracy_score(y_test,predict))\n",
        "\n",
        "precision = metrics.precision_score(y_test,predict)\n",
        "print(\"Precision using Logistic Regression = \", precision)\n",
        "\n",
        "recall = metrics.recall_score(y_test, predict)\n",
        "print(\"Recall using Logistic Regression = \", recall)\n",
        "\n",
        "print(\"F1 score using Logistic Regression: \", metrics.f1_score(y_test,predict))\n",
        "print(\"Area under ROC curve for Logistic Regression \",metrics.roc_auc_score(y_test, predict))\n"
      ],
      "execution_count": 0,
      "outputs": [
        {
          "output_type": "stream",
          "text": [
            "Columns ['acousticness', 'danceability', 'energy', 'instrumentalness', 'liveness', 'loudness', 'speechiness', 'tempo', 'valence', 'popularity']\n",
            "features      acousticness  danceability    energy  ...     tempo   valence  popularity\n",
            "0        0.010684      0.049539  0.043109  ...  0.037115  0.046446    0.062636\n",
            "1        0.009801      0.057448  0.045035  ...  0.040614  0.053224    0.061145\n",
            "2        0.002199      0.046474  0.051833  ...  0.038383  0.060317    0.073076\n",
            "3        0.008000      0.057019  0.046735  ...  0.039015  0.034960    0.061145\n",
            "4        0.016953      0.052666  0.053589  ...  0.038372  0.053789    0.056671\n",
            "..            ...           ...       ...  ...       ...       ...         ...\n",
            "649      0.003488      0.031943  0.048151  ...  0.025588  0.043998    0.044740\n",
            "650      0.021544      0.037829  0.034669  ...  0.023988  0.061070    0.040266\n",
            "651      0.028431      0.040833  0.029287  ...  0.038379  0.038286    0.038775\n",
            "652      0.016247      0.040894  0.028324  ...  0.038374  0.026361    0.046232\n",
            "653      0.035142      0.041385  0.040220  ...  0.036774  0.049207    0.040266\n",
            "\n",
            "[654 rows x 10 columns]\n",
            "labels 0      1\n",
            "1      1\n",
            "2      1\n",
            "3      1\n",
            "4      1\n",
            "      ..\n",
            "649    1\n",
            "650    1\n",
            "651    1\n",
            "652    1\n",
            "653    1\n",
            "Name: user, Length: 654, dtype: int64\n",
            "LogisticRegression(C=1.0, class_weight='balanced', dual=False,\n",
            "                   fit_intercept=True, intercept_scaling=1, l1_ratio=None,\n",
            "                   max_iter=1000, multi_class='warn', n_jobs=None, penalty='l2',\n",
            "                   random_state=0, solver='lbfgs', tol=0.0001, verbose=0,\n",
            "                   warm_start=False)\n",
            "x_test      acousticness  danceability    energy  ...     tempo   valence  popularity\n",
            "1        0.009801      0.057448  0.045035  ...  0.040614  0.053224    0.061145\n",
            "4        0.016953      0.052666  0.053589  ...  0.038372  0.053789    0.056671\n",
            "13       0.009889      0.048006  0.042656  ...  0.030707  0.033265    0.085007\n",
            "14       0.010684      0.038197  0.032120  ...  0.039638  0.051090    0.065619\n",
            "20       0.003611      0.038442  0.036538  ...  0.046725  0.022595    0.049214\n",
            "..            ...           ...       ...  ...       ...       ...         ...\n",
            "638      0.001792      0.038810  0.038861  ...  0.042531  0.060819    0.043249\n",
            "643      0.001051      0.038319  0.040164  ...  0.038381  0.027303    0.046232\n",
            "647      0.002852      0.037890  0.040730  ...  0.043168  0.049270    0.040266\n",
            "648      0.039027      0.041262  0.028041  ...  0.020035  0.057178    0.041758\n",
            "651      0.028431      0.040833  0.029287  ...  0.038379  0.038286    0.038775\n",
            "\n",
            "[218 rows x 10 columns]\n",
            "[1 1 1 1 1 1 1 1 1 1 1 1 1 1 0 1 1 1 1 1 1 1 1 0 1 1 1 1 1 1 1 0 1 1 0 0 0\n",
            " 1 1 1 0 0 0 0 0 0 0 0 0 0 0 0 0 0 0 0 0 0 0 0 0 1 0 0 0 1 1 1 1 1 0 0 1 0\n",
            " 1 0 0 0 1 1 0 0 0 1 0 1 0 1 1 0 0 0 0 0 0 0 1 1 1 1 1 1 0 0 1 0 1 0 0 0 0\n",
            " 0 0 0 0 0 0 0 0 0 0 0 0 0 0 0 0 0 0 0 0 0 0 0 0 0 0 0 0 0 0 0 0 0 0 0 0 0\n",
            " 0 0 0 0 0 0 0 0 0 0 0 0 0 0 0 0 0 0 0 0 0 0 0 0 0 0 0 0 0 0 0 0 0 0 0 0 1\n",
            " 1 1 1 1 1 1 1 0 0 1 1 1 1 1 0 0 0 1 1 1 0 1 1 1 1 1 1 1 1 1 1 1 1]\n",
            "[[125  26]\n",
            " [  9  58]]\n",
            "Accuracy score using Logistic Regression : 0.8394495412844036\n",
            "Precision using Logistic Regression =  0.6904761904761905\n",
            "Recall using Logistic Regression =  0.8656716417910447\n",
            "F1 score using Logistic Regression:  0.7682119205298013\n",
            "Area under ROC curve for Logistic Regression  0.8467431056637342\n"
          ],
          "name": "stdout"
        }
      ]
    },
    {
      "cell_type": "code",
      "metadata": {
        "id": "v9CxCBTcFh9b",
        "colab_type": "code",
        "outputId": "abe50855-386a-4065-f961-9bf082a2a44e",
        "colab": {
          "base_uri": "https://localhost:8080/",
          "height": 238
        }
      },
      "source": [
        "####################### Decision Tree ##############################\n",
        "\n",
        "model = tree.DecisionTreeClassifier(random_state =50, class_weight='balanced', max_leaf_nodes=500)\n",
        "print(\"Decision tree model: \", model)\n",
        "model.fit(x_train, y_train)\n",
        "y_predict = model.predict(x_test)\n",
        "\n",
        "conf_matrix = metrics.confusion_matrix(y_test, y_predict)\n",
        "print(\"conf_matrix using Decision tree = \", conf_matrix)\n",
        "\n",
        "accuracy = metrics.accuracy_score(y_test, y_predict)\n",
        "print(\"Accuracy using Decision Tree = \", accuracy)\n",
        "\n",
        "precision = metrics.precision_score(y_test, y_predict)\n",
        "print(\"Precision using Decision Tree = \", precision)\n",
        "\n",
        "recall = metrics.recall_score(y_test, y_predict)\n",
        "print(\"Recall using Decision Tree = \", recall)\n",
        "\n",
        "f1_score = metrics.f1_score(y_test,y_predict)\n",
        "print(\"F1 score using Decision tree:\", f1_score)\n",
        "print(\"Area under ROC curve for Decision tree \",metrics.roc_auc_score(y_test, y_predict))\n",
        "\n"
      ],
      "execution_count": 0,
      "outputs": [
        {
          "output_type": "stream",
          "text": [
            "Decision tree model:  DecisionTreeClassifier(class_weight='balanced', criterion='gini',\n",
            "                       max_depth=None, max_features=None, max_leaf_nodes=500,\n",
            "                       min_impurity_decrease=0.0, min_impurity_split=None,\n",
            "                       min_samples_leaf=1, min_samples_split=2,\n",
            "                       min_weight_fraction_leaf=0.0, presort=False,\n",
            "                       random_state=50, splitter='best')\n",
            "conf_matrix using Decision tree =  [[134  17]\n",
            " [ 17  50]]\n",
            "Accuracy using Decision Tree =  0.8440366972477065\n",
            "Precision using Decision Tree =  0.746268656716418\n",
            "Recall using Decision Tree =  0.746268656716418\n",
            "F1 score using Decision tree: 0.746268656716418\n",
            "Area under ROC curve for Decision tree  0.8168429376297321\n"
          ],
          "name": "stdout"
        }
      ]
    },
    {
      "cell_type": "code",
      "metadata": {
        "id": "ID00WdAfFwUP",
        "colab_type": "code",
        "outputId": "27595983-b155-4777-b9ff-fe4e888d18cf",
        "colab": {
          "base_uri": "https://localhost:8080/",
          "height": 255
        }
      },
      "source": [
        "####################### Random Forest ##############################\n",
        "\n",
        "model = ensemble.RandomForestClassifier(n_estimators=300, criterion='gini', oob_score=True, random_state=0, max_leaf_nodes=500, class_weight='balanced')\n",
        "print(\"Random forest model: \", model)\n",
        "model.fit(x_train, y_train)\n",
        "y_predict = model.predict(x_test)\n",
        "\n",
        "conf_matrix = metrics.confusion_matrix(y_test, y_predict)\n",
        "print(\"conf_matrix using Random forest = \", conf_matrix)\n",
        "\n",
        "accuracy = metrics.accuracy_score(y_test, y_predict)\n",
        "print(\"Accuracy using Random forest = \", accuracy)\n",
        "\n",
        "precision = metrics.precision_score(y_test, y_predict)\n",
        "print(\"Precision using Random forest = \", precision)\n",
        "\n",
        "recall = metrics.recall_score(y_test, y_predict)\n",
        "print(\"Recall using Random forest = \", recall)\n",
        "\n",
        "f1_score = metrics.f1_score(y_test,y_predict)\n",
        "print(\"F1 score using Random forest:\", f1_score)\n",
        "\n",
        "print(\"Area under ROC curve for Random Forest \", metrics.roc_auc_score(y_test, y_predict))\n"
      ],
      "execution_count": 0,
      "outputs": [
        {
          "output_type": "stream",
          "text": [
            "Random forest model:  RandomForestClassifier(bootstrap=True, class_weight='balanced',\n",
            "                       criterion='gini', max_depth=None, max_features='auto',\n",
            "                       max_leaf_nodes=500, min_impurity_decrease=0.0,\n",
            "                       min_impurity_split=None, min_samples_leaf=1,\n",
            "                       min_samples_split=2, min_weight_fraction_leaf=0.0,\n",
            "                       n_estimators=300, n_jobs=None, oob_score=True,\n",
            "                       random_state=0, verbose=0, warm_start=False)\n",
            "conf_matrix using Random forest =  [[144   7]\n",
            " [  8  59]]\n",
            "Accuracy using Random forest =  0.9311926605504587\n",
            "Precision using Random forest =  0.8939393939393939\n",
            "Recall using Random forest =  0.8805970149253731\n",
            "F1 score using Random forest: 0.887218045112782\n",
            "Area under ROC curve for Random Forest  0.9171196995156667\n"
          ],
          "name": "stdout"
        }
      ]
    },
    {
      "cell_type": "code",
      "metadata": {
        "id": "gcX7Jq-CNAmT",
        "colab_type": "code",
        "colab": {}
      },
      "source": [
        ""
      ],
      "execution_count": 0,
      "outputs": []
    }
  ]
}